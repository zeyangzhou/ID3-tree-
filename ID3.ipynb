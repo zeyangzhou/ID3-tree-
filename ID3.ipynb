{
 "cells": [
  {
   "cell_type": "code",
   "execution_count": 93,
   "metadata": {},
   "outputs": [],
   "source": [
    "import numpy as np\n",
    "import pandas as pd\n",
    "\n",
    "class Node(object):\n",
    "    def __init__(self, samples, target):\n",
    "        self.sam = samples\n",
    "        self.tg = target\n",
    "        self.DM = None\n",
    "        self.split = None \n",
    "        self.child_node = None \n",
    "   \n",
    "\n",
    "    def make(self): \n",
    "        target = self.tg\n",
    "        samples = self.sam\n",
    "        if len(samples) == 0:\n",
    "            self.DM = \"Yes\" \n",
    "            return\n",
    "        elif len(samples[target].unique()) == 1:\n",
    "            self.D = samples[target].unique()[0] \n",
    "            return\n",
    "        else: \n",
    "            ig_max = 0\n",
    "            for T in samples.keys():\n",
    "                if T == target:\n",
    "                    continue\n",
    "                aig = compute_info_gain(samples, T, target) \n",
    "                if aig > ig_max:\n",
    "                    ig_max = aig \n",
    "                    self.split = T\n",
    "            print(f\" Attribute Split by {self.split}, IG: {ig_max:.2f}\") \n",
    "            self.child_node = {}\n",
    "            for C in samples[self.split].unique():\n",
    "                index = samples[self.split] == C\n",
    "                self.child_node[C] = Node(samples[index], target)\n",
    "                self.child_node[C].make()\n",
    "    def entropy(S):\n",
    "        if len(S) < 2:\n",
    "            return 0\n",
    "        freq = np.array( y.value_counts(normalize=True) )\n",
    "        return -(freq * np.log2(freq + 1e-6)).sum()\n",
    "\n",
    "    def compute_info_gain(samples, attr, target): \n",
    "        values = samples[attr].value_counts(normalize=True)\n",
    "        split_ent = 0\n",
    "        for v, fr in values.iteritems():\n",
    "            sub_ent = entropy(samples[samples[attr]==v][target]) \n",
    "            split_ent += fr * sub_ent \n",
    "\n",
    "        ent = entropy(samples[target])\n",
    "        return ent - split_ent\n",
    "\n",
    "\n",
    "\n",
    "    def predic(self, ft=''): \n",
    "        if self.split is not None:\n",
    "            for k, v in self.child_node.items():\n",
    "                    v.predic(f\"{ft}:When {self.split} is {k}\")\n",
    "                    \n",
    "        else:\n",
    "            print(f\"{ft}:{self.DM}\")\n",
    "\n",
    "class TreeID3(object):\n",
    "    def __init__(self):\n",
    "        self.root = None\n",
    "    def fit(self, samples, target):\n",
    "        self.root = Node(samples, target)\n",
    "        self.root.make()\n",
    "   \n",
    "       "
   ]
  },
  {
   "cell_type": "code",
   "execution_count": 94,
   "metadata": {},
   "outputs": [
    {
     "name": "stdout",
     "output_type": "stream",
     "text": [
      " Attribute Split by Humidity, IG: 0.41\n",
      " Attribute Split by Outlook, IG: 0.97\n",
      ":When Humidity is High:When Outlook is Sunny:None\n",
      ":When Humidity is High:When Outlook is Overcast:None\n",
      ":When Humidity is High:When Outlook is Rain:None\n",
      ":When Humidity is Normal:None\n"
     ]
    }
   ],
   "source": [
    "class test(object):\n",
    "        df = pd.read_csv(\"weather.csv\")\n",
    "        t = TreeID3()\n",
    "        t.fit(df, \"Play\")\n",
    "        t.root.predic()\n",
    "\n"
   ]
  },
  {
   "cell_type": "code",
   "execution_count": null,
   "metadata": {},
   "outputs": [],
   "source": []
  },
  {
   "cell_type": "code",
   "execution_count": null,
   "metadata": {},
   "outputs": [],
   "source": []
  },
  {
   "cell_type": "code",
   "execution_count": null,
   "metadata": {},
   "outputs": [],
   "source": []
  }
 ],
 "metadata": {
  "kernelspec": {
   "display_name": "Python 3",
   "language": "python",
   "name": "python3"
  },
  "language_info": {
   "codemirror_mode": {
    "name": "ipython",
    "version": 3
   },
   "file_extension": ".py",
   "mimetype": "text/x-python",
   "name": "python",
   "nbconvert_exporter": "python",
   "pygments_lexer": "ipython3",
   "version": "3.8.3"
  }
 },
 "nbformat": 4,
 "nbformat_minor": 4
}
